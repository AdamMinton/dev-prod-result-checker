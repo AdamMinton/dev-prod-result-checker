{
 "cells": [
  {
   "cell_type": "markdown",
   "id": "b302c3da",
   "metadata": {},
   "source": [
    "# Imports"
   ]
  },
  {
   "cell_type": "code",
   "execution_count": 6,
   "id": "20208554",
   "metadata": {},
   "outputs": [
    {
     "name": "stdout",
     "output_type": "stream",
     "text": [
      "Imports Loaded\n"
     ]
    }
   ],
   "source": [
    "import pandas as pd\n",
    "import looker_sdk\n",
    "import urllib3\n",
    "urllib3.disable_warnings(urllib3.exceptions.InsecureRequestWarning) # Disabling https warning (self-signed warning), remove when accessing your own endpoint\n",
    "print(\"Imports Loaded\")"
   ]
  },
  {
   "cell_type": "code",
   "execution_count": 7,
   "id": "f76bc0af",
   "metadata": {},
   "outputs": [],
   "source": [
    "sdk = looker_sdk.init40()"
   ]
  },
  {
   "cell_type": "markdown",
   "id": "d60faf52",
   "metadata": {},
   "source": [
    "# All Projects Endpoint"
   ]
  },
  {
   "cell_type": "code",
   "execution_count": 20,
   "id": "3946eff1",
   "metadata": {},
   "outputs": [],
   "source": [
    "projects = sdk.all_projects()"
   ]
  },
  {
   "cell_type": "code",
   "execution_count": 12,
   "id": "de299966",
   "metadata": {},
   "outputs": [
    {
     "name": "stdout",
     "output_type": "stream",
     "text": [
      "Project(can={'webhook_deploy': True, 'show_manifest': True, 'index': True, 'show': True, 'validate': True, 'link_to_service': False, 'update': False, 'view_git_deploy_key': True, 'show_branches': True, 'deploy_ref_to_production': False}, id='marketplace_extension_api_explorer', name='marketplace_extension_api_explorer', uses_git=True, git_remote_url='../../bare_models/marketplace_extension_api_explorer.git', git_username='', git_password=None, git_production_branch_name='master', use_git_cookie_auth=False, git_username_user_attribute=None, git_password_user_attribute=None, git_service_name=None, git_application_server_http_port=None, git_application_server_http_scheme=None, deploy_secret=None, unset_deploy_secret=None, pull_request_mode=<PullRequestMode.off: 'off'>, validation_required=False, git_release_mgmt_enabled=False, allow_warnings=False, is_example=False, dependency_status='install_none')\n",
      "Project(can={'webhook_deploy': True, 'show_manifest': True, 'index': True, 'show': True, 'validate': True, 'link_to_service': False, 'update': False, 'view_git_deploy_key': True, 'show_branches': True, 'deploy_ref_to_production': False}, id='marketplace_https_github_com_looker_open_source_admin_power_pack_git', name='marketplace_https_github_com_looker_open_source_admin_power_pack_git', uses_git=True, git_remote_url='../../bare_models/marketplace_https_github_com_looker_open_source_admin_power_pack_git.git', git_username='', git_password=None, git_production_branch_name='master', use_git_cookie_auth=False, git_username_user_attribute=None, git_password_user_attribute=None, git_service_name=None, git_application_server_http_port=None, git_application_server_http_scheme=None, deploy_secret=None, unset_deploy_secret=None, pull_request_mode=<PullRequestMode.off: 'off'>, validation_required=False, git_release_mgmt_enabled=False, allow_warnings=False, is_example=False, dependency_status='install_none')\n",
      "Project(can={'webhook_deploy': True, 'show_manifest': True, 'index': True, 'show': True, 'validate': True, 'link_to_service': False, 'update': False, 'view_git_deploy_key': True, 'show_branches': True, 'deploy_ref_to_production': False}, id='marketplace_extension_lookml_diagram', name='marketplace_extension_lookml_diagram', uses_git=True, git_remote_url='../../bare_models/marketplace_extension_lookml_diagram.git', git_username='', git_password=None, git_production_branch_name='master', use_git_cookie_auth=False, git_username_user_attribute=None, git_password_user_attribute=None, git_service_name=None, git_application_server_http_port=None, git_application_server_http_scheme=None, deploy_secret=None, unset_deploy_secret=None, pull_request_mode=<PullRequestMode.off: 'off'>, validation_required=False, git_release_mgmt_enabled=False, allow_warnings=False, is_example=False, dependency_status='install_none')\n",
      "Project(can={'webhook_deploy': True, 'show_manifest': True, 'index': True, 'show': True, 'validate': True, 'link_to_service': True, 'update': True, 'view_git_deploy_key': True, 'show_branches': True, 'deploy_ref_to_production': True}, id='looker_ssh', name='looker_ssh', uses_git=True, git_remote_url='git@github.com:ryanrezvani/looker_v1.git', git_username='', git_password=None, git_production_branch_name='main', use_git_cookie_auth=False, git_username_user_attribute=None, git_password_user_attribute=None, git_service_name='github', git_application_server_http_port=None, git_application_server_http_scheme='', deploy_secret=None, unset_deploy_secret=None, pull_request_mode=<PullRequestMode.required: 'required'>, validation_required=True, git_release_mgmt_enabled=True, allow_warnings=False, is_example=False, dependency_status='install_none')\n",
      "Project(can={'webhook_deploy': True, 'show_manifest': True, 'index': True, 'show': True, 'validate': True, 'link_to_service': False, 'update': False, 'view_git_deploy_key': True, 'show_branches': True, 'deploy_ref_to_production': False}, id='marketplace_extension_data_dictionary', name='marketplace_extension_data_dictionary', uses_git=True, git_remote_url='../../bare_models/marketplace_extension_data_dictionary.git', git_username='', git_password=None, git_production_branch_name='master', use_git_cookie_auth=False, git_username_user_attribute=None, git_password_user_attribute=None, git_service_name=None, git_application_server_http_port=None, git_application_server_http_scheme=None, deploy_secret=None, unset_deploy_secret=None, pull_request_mode=<PullRequestMode.off: 'off'>, validation_required=False, git_release_mgmt_enabled=False, allow_warnings=False, is_example=False, dependency_status='install_none')\n"
     ]
    }
   ],
   "source": [
    "for proj in projects:\n",
    "    print(proj)"
   ]
  },
  {
   "cell_type": "code",
   "execution_count": 24,
   "id": "a9cf8040",
   "metadata": {},
   "outputs": [
    {
     "data": {
      "text/plain": [
       "{'can': {'webhook_deploy': True,\n",
       "  'show_manifest': True,\n",
       "  'index': True,\n",
       "  'show': True,\n",
       "  'validate': True,\n",
       "  'link_to_service': True,\n",
       "  'update': True,\n",
       "  'view_git_deploy_key': True,\n",
       "  'show_branches': True,\n",
       "  'deploy_ref_to_production': True},\n",
       " 'id': 'looker_ssh',\n",
       " 'name': 'looker_ssh',\n",
       " 'uses_git': True,\n",
       " 'git_remote_url': 'git@github.com:ryanrezvani/looker_v1.git',\n",
       " 'git_username': '',\n",
       " 'git_password': None,\n",
       " 'git_production_branch_name': 'main',\n",
       " 'use_git_cookie_auth': False,\n",
       " 'git_username_user_attribute': None,\n",
       " 'git_password_user_attribute': None,\n",
       " 'git_service_name': 'github',\n",
       " 'git_application_server_http_port': None,\n",
       " 'git_application_server_http_scheme': '',\n",
       " 'deploy_secret': None,\n",
       " 'unset_deploy_secret': None,\n",
       " 'pull_request_mode': <PullRequestMode.required: 'required'>,\n",
       " 'validation_required': True,\n",
       " 'git_release_mgmt_enabled': True,\n",
       " 'allow_warnings': False,\n",
       " 'is_example': False,\n",
       " 'dependency_status': 'install_none'}"
      ]
     },
     "execution_count": 24,
     "metadata": {},
     "output_type": "execute_result"
    }
   ],
   "source": [
    "projects[3].__dict__"
   ]
  },
  {
   "cell_type": "markdown",
   "id": "e4d6c767",
   "metadata": {},
   "source": [
    "# Dashboard Elements Endpoint for Prod"
   ]
  },
  {
   "cell_type": "code",
   "execution_count": 27,
   "id": "3a3e4b93",
   "metadata": {},
   "outputs": [],
   "source": [
    "link = \"https://34.122.181.2:9999/dashboards/4\"\n",
    "dashboard = sdk.dashboard_dashboard_elements(link.split(\"/\")[-1])"
   ]
  },
  {
   "cell_type": "code",
   "execution_count": 37,
   "id": "ad2db127",
   "metadata": {},
   "outputs": [
    {
     "data": {
      "text/plain": [
       "{'can': {'create': True,\n",
       "  'update': True,\n",
       "  'destroy': True,\n",
       "  'see_aggregate_table_lookml': True,\n",
       "  'index': True,\n",
       "  'show': True,\n",
       "  'explore': True,\n",
       "  'run': False,\n",
       "  'show_errors': True,\n",
       "  'find_and_replace': True},\n",
       " 'body_text': None,\n",
       " 'body_text_as_html': None,\n",
       " 'dashboard_id': '4',\n",
       " 'edit_uri': None,\n",
       " 'id': '8',\n",
       " 'look': None,\n",
       " 'look_id': None,\n",
       " 'lookml_link_id': '',\n",
       " 'merge_result_id': None,\n",
       " 'note_display': None,\n",
       " 'note_state': None,\n",
       " 'note_text': None,\n",
       " 'note_text_as_html': None,\n",
       " 'query': Query(model='one_off_testing', view='cascadeagg', can={'run': True, 'see_results': True, 'explore': True, 'create': True, 'show': True, 'cost_estimate': True, 'index': True, 'see_lookml': True, 'see_aggregate_table_lookml': True, 'see_derived_table_lookml': True, 'see_sql': True, 'save': True, 'generate_drill_links': True, 'download': True, 'download_unlimited': True, 'use_custom_fields': True, 'edit_custom_fields': True, 'edit_table_calculations': True, 'schedule': True}, id='711', fields=['cascadeagg.int_formatted_as_id', 'cascadeagg.int_formatted_as_decimal_0'], pivots=None, fill_fields=None, filters=None, filter_expression=None, sorts=['cascadeagg.int_formatted_as_id'], limit='500', column_limit=None, total=None, row_total=None, subtotals=None, vis_config={}, filter_config={}, visible_ui_sections=None, slug='xnqzrgq', dynamic_fields=None, client_id='l6lj7W01kxf1SlEAALdBmt', share_url='https://34.72.164.128:9999/x/l6lj7W01kxf1SlEAALdBmt', expanded_share_url='https://34.72.164.128:9999/explore/one_off_testing/cascadeagg?fields=cascadeagg.int_formatted_as_id,cascadeagg.int_formatted_as_decimal_0&sorts=cascadeagg.int_formatted_as_id&limit=500&vis=%7B%7D&filter_config=%7B%7D&origin=share-expanded', url='/explore/one_off_testing/cascadeagg?fields=cascadeagg.int_formatted_as_id,cascadeagg.int_formatted_as_decimal_0&sorts=cascadeagg.int_formatted_as_id&limit=500&vis=%7B%7D&filter_config=%7B%7D', query_timezone=None, has_table_calculations=False),\n",
       " 'query_id': '711',\n",
       " 'refresh_interval': None,\n",
       " 'refresh_interval_to_i': None,\n",
       " 'result_maker': ResultMakerWithIdVisConfigAndDynamicFields(id='449', dynamic_fields=None, filterables=[ResultMakerFilterables(model='one_off_testing', view='cascadeagg', name='', listen=[])], sorts=['cascadeagg.int_formatted_as_id'], merge_result_id=None, total=False, query_id='711', sql_query_id='', query=Query(model='one_off_testing', view='cascadeagg', can={'run': True, 'see_results': True, 'explore': True, 'create': True, 'show': True, 'cost_estimate': True, 'index': True, 'see_lookml': True, 'see_aggregate_table_lookml': True, 'see_derived_table_lookml': True, 'see_sql': True, 'save': True, 'generate_drill_links': True, 'download': True, 'download_unlimited': True, 'use_custom_fields': True, 'edit_custom_fields': True, 'edit_table_calculations': True, 'schedule': True}, id='711', fields=['cascadeagg.int_formatted_as_id', 'cascadeagg.int_formatted_as_decimal_0'], pivots=None, fill_fields=None, filters=None, filter_expression=None, sorts=['cascadeagg.int_formatted_as_id'], limit='500', column_limit=None, total=None, row_total=None, subtotals=None, vis_config={}, filter_config={}, visible_ui_sections=None, slug='xnqzrgq', dynamic_fields=None, client_id='l6lj7W01kxf1SlEAALdBmt', share_url='https://34.72.164.128:9999/x/l6lj7W01kxf1SlEAALdBmt', expanded_share_url='https://34.72.164.128:9999/explore/one_off_testing/cascadeagg?fields=cascadeagg.int_formatted_as_id,cascadeagg.int_formatted_as_decimal_0&sorts=cascadeagg.int_formatted_as_id&limit=500&vis=%7B%7D&filter_config=%7B%7D&origin=share-expanded', url='/explore/one_off_testing/cascadeagg?fields=cascadeagg.int_formatted_as_id,cascadeagg.int_formatted_as_decimal_0&sorts=cascadeagg.int_formatted_as_id&limit=500&vis=%7B%7D&filter_config=%7B%7D', query_timezone=None, has_table_calculations=False), vis_config={}),\n",
       " 'result_maker_id': '449',\n",
       " 'subtitle_text': None,\n",
       " 'title': 'Collection of Tiles Test',\n",
       " 'title_hidden': False,\n",
       " 'title_text': None,\n",
       " 'type': 'vis',\n",
       " 'alert_count': 0,\n",
       " 'rich_content_json': None,\n",
       " 'title_text_as_html': None,\n",
       " 'subtitle_text_as_html': None,\n",
       " 'extension_id': None}"
      ]
     },
     "execution_count": 37,
     "metadata": {},
     "output_type": "execute_result"
    }
   ],
   "source": [
    "# Dashboard returns an list of DashboardElement OBjects\n",
    "dashboard[0].__dict__"
   ]
  },
  {
   "cell_type": "code",
   "execution_count": 68,
   "id": "c5489259",
   "metadata": {},
   "outputs": [],
   "source": [
    "def sort_by_all_cols(df) -> pd.DataFrame:\n",
    "    return df.sort_values(by=df.columns.tolist())\n",
    "\n",
    "dfs = []\n",
    "for tile in dashboard:\n",
    "    df = pd.read_json(sdk.run_inline_query(result_format='json',body = tile.query))\n",
    "    # Apply a sorting to all columns, columns sorted in ascending order\n",
    "    dfs.append(sort_by_all_cols(df))"
   ]
  },
  {
   "cell_type": "code",
   "execution_count": 69,
   "id": "0dbaa453",
   "metadata": {},
   "outputs": [
    {
     "data": {
      "text/html": [
       "<div>\n",
       "<style scoped>\n",
       "    .dataframe tbody tr th:only-of-type {\n",
       "        vertical-align: middle;\n",
       "    }\n",
       "\n",
       "    .dataframe tbody tr th {\n",
       "        vertical-align: top;\n",
       "    }\n",
       "\n",
       "    .dataframe thead th {\n",
       "        text-align: right;\n",
       "    }\n",
       "</style>\n",
       "<table border=\"1\" class=\"dataframe\">\n",
       "  <thead>\n",
       "    <tr style=\"text-align: right;\">\n",
       "      <th></th>\n",
       "      <th>cascadeagg.int_formatted_as_id</th>\n",
       "      <th>cascadeagg.int_formatted_as_decimal_0</th>\n",
       "    </tr>\n",
       "  </thead>\n",
       "  <tbody>\n",
       "    <tr>\n",
       "      <th>0</th>\n",
       "      <td>1111111111</td>\n",
       "      <td>1111111111</td>\n",
       "    </tr>\n",
       "    <tr>\n",
       "      <th>1</th>\n",
       "      <td>1234567890</td>\n",
       "      <td>1234567890</td>\n",
       "    </tr>\n",
       "  </tbody>\n",
       "</table>\n",
       "</div>"
      ],
      "text/plain": [
       "   cascadeagg.int_formatted_as_id  cascadeagg.int_formatted_as_decimal_0\n",
       "0                      1111111111                             1111111111\n",
       "1                      1234567890                             1234567890"
      ]
     },
     "execution_count": 69,
     "metadata": {},
     "output_type": "execute_result"
    }
   ],
   "source": [
    "dfs[0]"
   ]
  },
  {
   "cell_type": "markdown",
   "id": "932b3f58",
   "metadata": {},
   "source": [
    "# Dashboard Elements Endpoint for Dev"
   ]
  },
  {
   "cell_type": "markdown",
   "id": "f74c7553",
   "metadata": {},
   "source": [
    "# Switching to Dev"
   ]
  },
  {
   "cell_type": "code",
   "execution_count": 73,
   "id": "cd8e48d0",
   "metadata": {},
   "outputs": [
    {
     "name": "stdout",
     "output_type": "stream",
     "text": [
      "ApiSession(can={'view': True, 'update': True}, workspace_id='production', sudo_user_id=None)\n"
     ]
    }
   ],
   "source": [
    "session = sdk.session()\n",
    "print(session)"
   ]
  },
  {
   "cell_type": "code",
   "execution_count": 72,
   "id": "4f809b70",
   "metadata": {},
   "outputs": [
    {
     "data": {
      "text/plain": [
       "ApiSession(can={'view': True, 'update': True}, workspace_id='production', sudo_user_id=None)"
      ]
     },
     "execution_count": 72,
     "metadata": {},
     "output_type": "execute_result"
    }
   ],
   "source": [
    "session"
   ]
  },
  {
   "cell_type": "code",
   "execution_count": 89,
   "id": "cb64e446",
   "metadata": {},
   "outputs": [
    {
     "name": "stdout",
     "output_type": "stream",
     "text": [
      "Getting all branches within looker_ssh\n",
      "dev-ryan-rezvani-hxhz\n",
      "main\n",
      "master\n",
      "rr_add_liquid_testing\n",
      "dev-marketplace-automation-user-0d40cf-7bh7\n",
      "dev-marketplace-automation-user-4122cf-zsg2\n",
      "dev-marketplace-automation-user-a1f7bb-3sw4\n",
      "dev-marketplace-automation-user-acea28-hpz3\n",
      "dev-marketplace-automation-user-cf15f3-jxqj\n",
      "dev-marketplace-automation-user-e2bde7-qsfm\n",
      "dev-ryan-rezvani-hpch\n",
      "dev-ryan-rezvani-k5dd\n",
      "dev-ryan-rezvani-yqhp\n",
      "rr_testing_dev_vs_prod\n"
     ]
    }
   ],
   "source": [
    "# Use the projects endpoint objects' ID to get the branches per project \n",
    "project_name = projects[3].id\n",
    "print(f\"Getting all branches within {project_name}\")\n",
    "\n",
    "branches = sdk.all_git_branches(project_name)\n",
    "for branch in branches: \n",
    "    print(branch.name)"
   ]
  },
  {
   "cell_type": "code",
   "execution_count": 93,
   "id": "0d342144",
   "metadata": {},
   "outputs": [
    {
     "data": {
      "text/plain": [
       "{'can': {},\n",
       " 'name': 'rr_testing_dev_vs_prod',\n",
       " 'remote': 'origin',\n",
       " 'remote_name': 'rr_testing_dev_vs_prod',\n",
       " 'error': '',\n",
       " 'message': '',\n",
       " 'owner_name': '',\n",
       " 'readonly': False,\n",
       " 'personal': False,\n",
       " 'is_local': False,\n",
       " 'is_remote': True,\n",
       " 'is_production': False,\n",
       " 'ahead_count': None,\n",
       " 'behind_count': None,\n",
       " 'commit_at': 1679494098,\n",
       " 'ref': '',\n",
       " 'remote_ref': '6c5a269b9b50ee6837df1255ab610a13577432f4'}"
      ]
     },
     "execution_count": 93,
     "metadata": {},
     "output_type": "execute_result"
    }
   ],
   "source": [
    "branch_to_test = list(filter(lambda branch: branch.name == 'rr_testing_dev_vs_prod',branches))[0]\n",
    "branch_to_test.__dict__"
   ]
  },
  {
   "cell_type": "code",
   "execution_count": 90,
   "id": "5b7a09ad",
   "metadata": {},
   "outputs": [
    {
     "name": "stdout",
     "output_type": "stream",
     "text": [
      "ApiSession(can={'view': True, 'update': True}, workspace_id='dev', sudo_user_id=None)\n"
     ]
    }
   ],
   "source": [
    "# https://developers.looker.com/api/explorer/4.0/methods/Session/update_session?s=update_session\n",
    "body = {\"workspace_id\":'dev'}\n",
    "session = sdk.update_session(body=body)\n",
    "print(session)"
   ]
  },
  {
   "cell_type": "code",
   "execution_count": 91,
   "id": "f968df93",
   "metadata": {},
   "outputs": [
    {
     "name": "stdout",
     "output_type": "stream",
     "text": [
      "\n"
     ]
    }
   ],
   "source": [
    "# Removes any uncommitted changes from project during checks, seems optional\n",
    "reset = sdk.reset_project_to_remote(project_id=project_name)\n",
    "print(reset)"
   ]
  },
  {
   "cell_type": "code",
   "execution_count": 94,
   "id": "98eebeb3",
   "metadata": {},
   "outputs": [
    {
     "data": {
      "text/plain": [
       "GitBranch(can={}, name='rr_testing_dev_vs_prod', remote='origin', remote_name='rr_testing_dev_vs_prod', error='', message='', owner_name='', readonly=False, personal=False, is_local=True, is_remote=True, is_production=False, ahead_count=0, behind_count=0, commit_at=1679494098, ref='6c5a269b9b50ee6837df1255ab610a13577432f4', remote_ref='6c5a269b9b50ee6837df1255ab610a13577432f4')"
      ]
     },
     "execution_count": 94,
     "metadata": {},
     "output_type": "execute_result"
    }
   ],
   "source": [
    "# https://developers.looker.com/api/explorer/4.0/methods/Project/update_git_branch?s=git+branch\n",
    "body = {\"name\":branch_to_test.name}\n",
    "sdk.update_git_branch(project_id=project_name, body=branch)"
   ]
  },
  {
   "cell_type": "code",
   "execution_count": 95,
   "id": "f081e3a0",
   "metadata": {},
   "outputs": [],
   "source": [
    "link = \"https://34.122.181.2:9999/dashboards/4\"\n",
    "dashboard = sdk.dashboard_dashboard_elements(link.split(\"/\")[-1])"
   ]
  },
  {
   "cell_type": "code",
   "execution_count": 96,
   "id": "7ab5ed75",
   "metadata": {},
   "outputs": [],
   "source": [
    "dfs_from_dev = []\n",
    "for tile in dashboard:\n",
    "    df = pd.read_json(sdk.run_inline_query(result_format='json',body = tile.query))\n",
    "    # Apply a sorting to all columns, columns sorted in ascending order\n",
    "    dfs.append(sort_by_all_cols(df))"
   ]
  },
  {
   "cell_type": "code",
   "execution_count": 97,
   "id": "31589098",
   "metadata": {},
   "outputs": [
    {
     "data": {
      "text/html": [
       "<div>\n",
       "<style scoped>\n",
       "    .dataframe tbody tr th:only-of-type {\n",
       "        vertical-align: middle;\n",
       "    }\n",
       "\n",
       "    .dataframe tbody tr th {\n",
       "        vertical-align: top;\n",
       "    }\n",
       "\n",
       "    .dataframe thead th {\n",
       "        text-align: right;\n",
       "    }\n",
       "</style>\n",
       "<table border=\"1\" class=\"dataframe\">\n",
       "  <thead>\n",
       "    <tr style=\"text-align: right;\">\n",
       "      <th></th>\n",
       "      <th>cascadeagg.int_formatted_as_id</th>\n",
       "      <th>cascadeagg.int_formatted_as_decimal_0</th>\n",
       "    </tr>\n",
       "  </thead>\n",
       "  <tbody>\n",
       "    <tr>\n",
       "      <th>0</th>\n",
       "      <td>1234567890</td>\n",
       "      <td>1234567890</td>\n",
       "    </tr>\n",
       "    <tr>\n",
       "      <th>1</th>\n",
       "      <td>2222222222</td>\n",
       "      <td>2222222222</td>\n",
       "    </tr>\n",
       "  </tbody>\n",
       "</table>\n",
       "</div>"
      ],
      "text/plain": [
       "   cascadeagg.int_formatted_as_id  cascadeagg.int_formatted_as_decimal_0\n",
       "0                      1234567890                             1234567890\n",
       "1                      2222222222                             2222222222"
      ]
     },
     "execution_count": 97,
     "metadata": {},
     "output_type": "execute_result"
    }
   ],
   "source": [
    "dfs[0]"
   ]
  }
 ],
 "metadata": {
  "kernelspec": {
   "display_name": "Python 3 (ipykernel)",
   "language": "python",
   "name": "python3"
  },
  "language_info": {
   "codemirror_mode": {
    "name": "ipython",
    "version": 3
   },
   "file_extension": ".py",
   "mimetype": "text/x-python",
   "name": "python",
   "nbconvert_exporter": "python",
   "pygments_lexer": "ipython3",
   "version": "3.10.9"
  }
 },
 "nbformat": 4,
 "nbformat_minor": 5
}
